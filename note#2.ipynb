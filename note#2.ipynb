{
 "cells": [
  {
   "cell_type": "markdown",
   "metadata": {},
   "source": [
    "**4주차**\n",
    "\n",
    "다변수 처리"
   ]
  },
  {
   "cell_type": "code",
   "execution_count": null,
   "metadata": {},
   "outputs": [],
   "source": [
    "class Function:\n",
    "\n",
    "    def __call__(self,*inputs):\n",
    "        xs = [x.data for x in inputs]\n",
    "        ys = self.forward(*xs) #다 풀어서 전달(리스트 언팩)\n",
    "        if not isinstance(ys,tuple): #자료형 검사\n",
    "            ys = (ys,)\n",
    "        outputs = [Variable(as_array(y)) for y in ys]\n",
    "\n",
    "        for output in outputs:\n",
    "            output.set_creator(self)\n",
    "            self.inputs =inputs\n",
    "            self.outputs = outputs\n",
    "            return outputs if len(outputs) > 1 else outputs[0]\n",
    "        \n",
    "    def forward(self,x):\n",
    "        raise NotImplementedError()\n",
    "    \n",
    "    def backward(self,gy):\n",
    "        raise not NotImplementedError()"
   ]
  },
  {
   "cell_type": "code",
   "execution_count": null,
   "metadata": {},
   "outputs": [],
   "source": [
    "class Add(Function):\n",
    "    def forward(self,x0,x1): #func의 call로 들어가므로 간단히 구현 가능\n",
    "        y = x0 + x1\n",
    "        return y #튜플\n",
    "    \n",
    "    def backward(self,gy):\n",
    "        return gy, gy"
   ]
  },
  {
   "cell_type": "code",
   "execution_count": null,
   "metadata": {},
   "outputs": [],
   "source": [
    "def add(x0,x1):\n",
    "    return Add()(x0,x1)"
   ]
  },
  {
   "cell_type": "code",
   "execution_count": null,
   "metadata": {},
   "outputs": [],
   "source": [
    "x0 = Variable(np.array(2))\n",
    "x1 = Variable(np.array(3))\n",
    "y = add(x0,x1)\n",
    "print(y.data)"
   ]
  },
  {
   "cell_type": "markdown",
   "metadata": {},
   "source": [
    "z11 = w1x1 + w2x2 + .... \n",
    "\n",
    "\n",
    "인데 얘를 하나씩 미분하면  z111/dx1 = w1 .... (나머진 다 상수)"
   ]
  },
  {
   "cell_type": "code",
   "execution_count": null,
   "metadata": {},
   "outputs": [],
   "source": [
    "class Variable:\n",
    "    def __init__(self, data):\n",
    "        self.data = data\n",
    "        self.grad= None\n",
    "        self.creator = None\n",
    "\n",
    "    #나의 크리에이터가 누구냐를 지정\n",
    "    def set_creator(self,func):\n",
    "        self.creator = func\n",
    "\n",
    "    '''def backward(self): #13p 재귀적 호출\n",
    "        f = self.creator\n",
    "        if f is not None: #반복작업 자동화\n",
    "            x = f.input\n",
    "            x.grad = f.backward(self.grad)\n",
    "            x.backward()'''\n",
    "\n",
    "    def backward(self): #3.16p\n",
    "        funcs = [self.creator]\n",
    "        while funcs:\n",
    "            f = funcs.pop() # f1,f2,f3,... 순차적으로 꺼냄\n",
    "            \"\"\"x,y = f.input, f.output\n",
    "            x.grad = f.backward(y.grad) #y의 grad값을 집어넣으면 x.grad가 나옴\"\"\"\n",
    "            gys = [output.grad for output in f.outputs]\n",
    "            gxs = f.backward(*gys) #역전파해야 미분값이 나오니까\n",
    "            if not isinstance(gxs, tuple):\n",
    "                gxs = (gxs,)\n",
    "            for x, gx in zip(f.inputs,gxs): #zip 쓴 이유: 레이어별 미분값이 있을텐데 묶어둠\n",
    "                x.grad = gx  # 같은 변수 사용되는 문제 해결\n",
    " \n",
    "            if x.creator is not None:                   \n",
    "                funcs.append(x.creator)"
   ]
  },
  {
   "cell_type": "code",
   "execution_count": null,
   "metadata": {},
   "outputs": [],
   "source": [
    "#zip이란\n",
    "list1 = [1,2,3]\n",
    "list2 = ['a','b','c']\n",
    "list3 = ['x','y','z']\n",
    "zipped = zip(list1,list2,list3)\n",
    "list(zipped)"
   ]
  },
  {
   "cell_type": "markdown",
   "metadata": {},
   "source": [
    "시퀀스도 가변 길이 입출력 지원하도록"
   ]
  },
  {
   "cell_type": "code",
   "execution_count": null,
   "metadata": {},
   "outputs": [],
   "source": [
    "class Square(Function):\n",
    "    def forward(self, x):\n",
    "        y = x ** 2\n",
    "        return y\n",
    "    \n",
    "    def backward(self, gy):\n",
    "        #\"\"\"x = self.input.data\"\"\"\n",
    "        x = self.input[0].data\n",
    "        gx = 2 * x * gy\n",
    "        return gx"
   ]
  },
  {
   "cell_type": "code",
   "execution_count": null,
   "metadata": {},
   "outputs": [],
   "source": [
    "def square(x):\n",
    "    return Square()(x)\n",
    "\n",
    "def add(x0,x1):\n",
    "    return Add()(x0,x1)"
   ]
  },
  {
   "cell_type": "code",
   "execution_count": null,
   "metadata": {},
   "outputs": [],
   "source": [
    "x = Variable(np.array(2))\n",
    "y = Variable(np.array(3))\n",
    "\n",
    "z = add(square(x), square(y))\n",
    "z.backward()\n",
    "print(z.data)\n",
    "print(x.grad , y.grad)"
   ]
  },
  {
   "cell_type": "markdown",
   "metadata": {},
   "source": [
    "1. 같은 변수를 반복했을 때의 문제\n",
    "2. 덮어써버리는 문제"
   ]
  },
  {
   "cell_type": "code",
   "execution_count": null,
   "metadata": {},
   "outputs": [],
   "source": [
    "def cleargrad(self):\n",
    "    self.grad = None"
   ]
  },
  {
   "cell_type": "code",
   "execution_count": null,
   "metadata": {},
   "outputs": [],
   "source": [
    "x = Variable(np.array(3.0))\n",
    "y = add(x,x)\n",
    "y.backward()\n",
    "print(x.grad)\n",
    "\n",
    "x.cleargrad()\n",
    "y = add(x,x)\n",
    "y.backward()\n",
    "print(x.grad)"
   ]
  },
  {
   "cell_type": "markdown",
   "metadata": {},
   "source": [
    "p21\n",
    "\n",
    "c를 처리한 이후 리스트에 B,A가 남는데\n",
    "funcs.pop 하니까 A가 먼저 남고 B가 되니까 꼬여서 미분값이 달라진다.\n",
    "\n",
    "\n",
    "-> 이 문제 해결을 위해 ->"
   ]
  },
  {
   "cell_type": "markdown",
   "metadata": {},
   "source": [
    "함수 우선순위 설정"
   ]
  },
  {
   "cell_type": "code",
   "execution_count": 1,
   "metadata": {},
   "outputs": [],
   "source": [
    "class Variable:\n",
    "    def __init__(self, data):\n",
    "        if data is not None:\n",
    "            if not isinstance(data, np.ndarray):\n",
    "                raise TypeError('{} is not supported'.format(type(data)))\n",
    "\n",
    "        self.data = data\n",
    "        self.grad = None\n",
    "        self.creator = None\n",
    "        self.generation = 0 #세대를 나타내는 인스턴스변수\n",
    "\n",
    "    def set_creator(self, func):\n",
    "        self.creator = func\n",
    "        self.generation = func.generation + 1 #부모의 함수세대보다 1만큼 큰 값 설정"
   ]
  },
  {
   "cell_type": "markdown",
   "metadata": {},
   "source": [
    "## 5주차<br> \n",
    "#### 딥프 기본 구현사항 패키지화"
   ]
  },
  {
   "cell_type": "code",
   "execution_count": 2,
   "metadata": {},
   "outputs": [],
   "source": [
    "#메모리 관리와 순환을 위해 DeZero의 성능을 개선해야한다.\n",
    "#이번 시간은 사용자 편의성을 위해. 유저 인터페이스를 개선하고 최종적으로 패키지화 시킬 것이다.\n",
    "#step들을 가져다가 import해서 씀"
   ]
  },
  {
   "cell_type": "markdown",
   "metadata": {},
   "source": [
    "파이썬의 메모리 관리 두 가지 방식\n",
    "\n",
    "1. reference"
   ]
  },
  {
   "cell_type": "code",
   "execution_count": 3,
   "metadata": {},
   "outputs": [
    {
     "name": "stdout",
     "output_type": "stream",
     "text": [
      "<__main__.obj object at 0x00000140D0743990>\n"
     ]
    }
   ],
   "source": [
    "class obj:\n",
    "    pass\n",
    "def f(x):\n",
    "    print(x)\n",
    "a = obj() # a객체 생성 후 reference count 1\n",
    "f(a) # reference count 2\n",
    "#함수 완료: 빠져나오면 1\n",
    "a = None # 대입 해제: 카운트 0, 회수"
   ]
  },
  {
   "cell_type": "markdown",
   "metadata": {},
   "source": [
    "function 입장에서 input과 output이 있고, Variable 입장에선 부모는 Function이다<br>\n",
    "복잡한 곳인데 계속 순환 참조하면 메모리가 엄청 커져 학습시간이 늘어나기에 순환참조를 만들지않는 것이 좋다"
   ]
  },
  {
   "cell_type": "code",
   "execution_count": 4,
   "metadata": {},
   "outputs": [
    {
     "data": {
      "text/plain": [
       "<weakref at 0x00000140D073DC60; to 'numpy.ndarray' at 0x00000140D0750ED0>"
      ]
     },
     "execution_count": 4,
     "metadata": {},
     "output_type": "execute_result"
    }
   ],
   "source": [
    "# 약한 참조 \n",
    "# 다른 객체를 참조하되 카운터는 증가시키지않는 기능\n",
    "\n",
    "import weakref\n",
    "import numpy as np\n",
    "a = np.array([1,2,3])\n",
    "b = weakref.ref(a)\n",
    "b\n"
   ]
  },
  {
   "cell_type": "code",
   "execution_count": 5,
   "metadata": {},
   "outputs": [
    {
     "data": {
      "text/plain": [
       "array([1, 2, 3])"
      ]
     },
     "execution_count": 5,
     "metadata": {},
     "output_type": "execute_result"
    }
   ],
   "source": [
    "b()"
   ]
  },
  {
   "cell_type": "code",
   "execution_count": 6,
   "metadata": {},
   "outputs": [
    {
     "data": {
      "text/plain": [
       "<weakref at 0x00000140D073DC60; to 'numpy.ndarray' at 0x00000140D0750ED0>"
      ]
     },
     "execution_count": 6,
     "metadata": {},
     "output_type": "execute_result"
    }
   ],
   "source": [
    "a= None\n",
    "b"
   ]
  },
  {
   "cell_type": "markdown",
   "metadata": {},
   "source": [
    "step_17"
   ]
  },
  {
   "cell_type": "code",
   "execution_count": null,
   "metadata": {},
   "outputs": [],
   "source": [
    "class Config: #설정 데이터는 단 한군데서만 존재하는 것이 좋음.\n",
    "    enable_backprop = True   #역전파가 가능한지 여부를 뜻하는 속성\n",
    "    \n",
    "class Function:\n",
    "    def __call__(self, *inputs):\n",
    "        xs = [x.data for x in inputs]\n",
    "        ys = self.forward(*xs)\n",
    "        if not isinstance(ys, tuple):\n",
    "            ys = (ys,)\n",
    "        outputs = [Variable(as_array(y)) for y in ys]\n",
    "\n",
    "        if Config.enable_backprop: #\n",
    "            self.generation = max([x.generation for x in inputs])\n",
    "            for output in outputs:\n",
    "                output.set_creator(self)\n",
    "            self.inputs = inputs\n",
    "            self.outputs = [weakref.ref(output) for output in outputs]\n",
    "\n",
    "        return outputs if len(outputs) > 1 else outputs[0]\n",
    "\n",
    "    def forward(self, xs):\n",
    "        raise NotImplementedError()\n",
    "\n",
    "    def backward(self, gys):\n",
    "        raise NotImplementedError()"
   ]
  },
  {
   "cell_type": "code",
   "execution_count": null,
   "metadata": {},
   "outputs": [],
   "source": [
    "class Square(Function):\n",
    "    def forward(self, x):\n",
    "        y = x ** 2\n",
    "        return y\n",
    "    \n",
    "    def backward(self, gy):\n",
    "        #\"\"\"x = self.input.data\"\"\"\n",
    "        x = self.input[0].data\n",
    "        gx = 2 * x * gy\n",
    "        return gx"
   ]
  },
  {
   "cell_type": "markdown",
   "metadata": {},
   "source": [
    "#### DeZero의 메모리 절약 모드\n",
    "\n",
    "**메모리 사용 개선 두가지 구조 도입**\n",
    "\n",
    "1. 역전파 시 사용하는 메모리양을 줄이는 방법<br>\n",
    "2. 역전파가 필요 없는 경우용 모드를 제공"
   ]
  },
  {
   "cell_type": "code",
   "execution_count": null,
   "metadata": {},
   "outputs": [],
   "source": []
  },
  {
   "cell_type": "code",
   "execution_count": 7,
   "metadata": {},
   "outputs": [],
   "source": [
    "class Variable:\n",
    "    def __init__(self, data):\n",
    "        if data is not None:\n",
    "            if not isinstance(data, np.ndarray):\n",
    "                raise TypeError('{} is not supported'.format(type(data)))\n",
    "\n",
    "        self.data = data\n",
    "        self.grad = None\n",
    "        self.creator = None\n",
    "        self.generation = 0\n",
    "\n",
    "    def set_creator(self, func):\n",
    "        self.creator = func\n",
    "        self.generation = func.generation + 1\n",
    "\n",
    "    def cleargrad(self):\n",
    "        self.grad = None\n",
    "\n",
    "    def backward(self, retain_grad = False):\n",
    "        if self.grad is None:\n",
    "            self.grad = np.ones_like(self.data)\n",
    "\n",
    "        funcs = []\n",
    "        seen_set = set()\n",
    "\n",
    "        def add_func(f):\n",
    "            if f not in seen_set:\n",
    "                funcs.append(f)\n",
    "                seen_set.add(f)\n",
    "                funcs.sort(key=lambda x: x.generation)\n",
    "\n",
    "        add_func(self.creator)\n",
    "\n",
    "        while funcs:\n",
    "            f = funcs.pop()\n",
    "            #gys = [output.grad for output in f.outputs]\n",
    "            gys = [output().grad for output in f.outputs]  # weakref 참조로 변경\n",
    "            gxs = f.backward(*gys)\n",
    "            if not isinstance(gxs, tuple):\n",
    "                gxs = (gxs,)\n",
    "\n",
    "            for x, gx in zip(f.inputs, gxs):\n",
    "                if x.grad is None:\n",
    "                    x.grad = gx\n",
    "                else:\n",
    "                    x.grad = x.grad + gx\n",
    "\n",
    "                if x.creator is not None:\n",
    "                    add_func(x.creator)\n",
    "        if not retain_grad:\n",
    "            for y in f.outputs:\n",
    "                y().grad = None"
   ]
  },
  {
   "cell_type": "code",
   "execution_count": null,
   "metadata": {},
   "outputs": [],
   "source": [
    "class Add(Function):\n",
    "    def forward(self,x0,x1): #func의 call로 들어가므로 간단히 구현 가능\n",
    "        y = x0 + x1\n",
    "        return y #튜플\n",
    "    \n",
    "    def backward(self,gy):\n",
    "        return gy, gy\n",
    "    \n",
    "def add(x0, x1):\n",
    "    return Add()(x0, x1)"
   ]
  },
  {
   "cell_type": "code",
   "execution_count": null,
   "metadata": {},
   "outputs": [],
   "source": [
    "x0 = Variable(np.array(1.0))\n",
    "x1 = Variable(np.array(1.0))\n",
    "t = add(x0,x1)\n",
    "y = add(x0,t)\n",
    "y.backward()\n",
    "\n",
    "print(y.grad, t.grad) #None None\n",
    "print(x0.grad, x1.grad)\n",
    "\n",
    "# 왜 둘다 None이 아닌가"
   ]
  },
  {
   "cell_type": "markdown",
   "metadata": {},
   "source": [
    "모드 전환 코드 수행"
   ]
  },
  {
   "cell_type": "code",
   "execution_count": null,
   "metadata": {},
   "outputs": [],
   "source": [
    "Config.enable_backprop = True\n",
    "x = Variable(np.ones((100,100,100)))\n",
    "y = square(square(square(x)))\n",
    "y.backward()"
   ]
  },
  {
   "cell_type": "code",
   "execution_count": null,
   "metadata": {},
   "outputs": [],
   "source": [
    "def using_config(name, value):\n",
    "    old_value = getattr(Config, name)\n",
    "    setattr(Config, name, value)\n",
    "    try:\n",
    "        yield\n",
    "    finally:\n",
    "        setattr(Config, name, old_value)\n",
    "\n",
    "\n",
    "def no_grad():\n",
    "    return using_config('enable_backprop', False)"
   ]
  },
  {
   "cell_type": "markdown",
   "metadata": {},
   "source": [
    "using_config 함수 구현 \n",
    "\n",
    "set은 삽입 get은 꺼내기"
   ]
  },
  {
   "cell_type": "code",
   "execution_count": 8,
   "metadata": {},
   "outputs": [],
   "source": [
    "import contextlib"
   ]
  },
  {
   "cell_type": "code",
   "execution_count": null,
   "metadata": {},
   "outputs": [],
   "source": [
    "@contextlib.contextmanager\n",
    "def using_config(name, value):  #with 블록에 들어갈 때 name 으로 지정한 Config 클래스 속성이 value로 설정\n",
    "    old_value = getattr(Config, name) \n",
    "    setattr(Config, name, value) \n",
    "    try:\n",
    "        yield\n",
    "    finally:\n",
    "        setattr(Config, name, old_value) \n",
    "\n",
    "def no_grad(): #역전파에 적용,\n",
    "    return using_config('enable_backprop', False)"
   ]
  },
  {
   "cell_type": "code",
   "execution_count": null,
   "metadata": {},
   "outputs": [],
   "source": [
    "#지금까지는 메모리 효율을 위해 순환참조를 없애버렸다\n",
    "# 두번째는 메모리 절약(미분값 없애고 모드로 조절하는 법 했다)\n",
    "\n",
    "\n",
    "#그 다음 19장 하는 것은 변수 사용성 개선"
   ]
  },
  {
   "cell_type": "markdown",
   "metadata": {},
   "source": [
    "#### 변수 사용성 개선"
   ]
  },
  {
   "cell_type": "markdown",
   "metadata": {},
   "source": [
    "1. 변수 이름 지정"
   ]
  },
  {
   "cell_type": "code",
   "execution_count": null,
   "metadata": {},
   "outputs": [],
   "source": [
    "# 변수들을 서로 구분 \n",
    "class Variable: \n",
    "    def __init__(self, data, name=None): #변수에 이름을 붙여줄 수 있도록 설정함.\n",
    "        if data is not None:\n",
    "            if not isinstance(data, np.ndarray):\n",
    "                raise TypeError('{} is not supported'.format(type(data)))\n",
    "\n",
    "        self.data = data\n",
    "        self.name = name # x = Variable(np.array(1.0), ‘input_x’)라면, 변수 x의 이름은 input_x 임\n",
    "        self.grad = None\n",
    "        self.creator = None\n",
    "        self.generation = 0"
   ]
  },
  {
   "cell_type": "markdown",
   "metadata": {},
   "source": [
    "2. ndarray 인스턴스 변수 \n",
    "- Variable  인스턴스를 ndarray 인스턴스처럼 보이게 함"
   ]
  },
  {
   "cell_type": "code",
   "execution_count": null,
   "metadata": {},
   "outputs": [],
   "source": [
    "# @property가 있어야 \n",
    "#원래는 x.shape()이지만 x.shape으로 호출 가능"
   ]
  },
  {
   "cell_type": "markdown",
   "metadata": {},
   "source": [
    "3. len과 print를 Variable에 쓸 수 있도록"
   ]
  },
  {
   "cell_type": "code",
   "execution_count": null,
   "metadata": {},
   "outputs": [],
   "source": [
    "#__len__을 추가함으로서\n",
    "\n",
    "# __repr__(self) : 나의 형식에 맞게 재정의 가능함. "
   ]
  },
  {
   "cell_type": "markdown",
   "metadata": {},
   "source": [
    "#### 연산자 오버로드(1) \n",
    "- 연산자를 지원하도록 Variable 확장 (ndarray끼리 +,* 을 지원)"
   ]
  },
  {
   "cell_type": "markdown",
   "metadata": {},
   "source": [
    "mul() 쓰려고 지정했다가 그것보다 더 편리하게 오버로드로 *을 사용가능하게끔 했다"
   ]
  },
  {
   "cell_type": "markdown",
   "metadata": {},
   "source": [
    "#### 연산자 오버로드(2)"
   ]
  },
  {
   "cell_type": "markdown",
   "metadata": {},
   "source": [
    "a * np.array(2.0), 3 + b 가능"
   ]
  },
  {
   "cell_type": "markdown",
   "metadata": {},
   "source": [
    "#### float, int와 함께 사용하기"
   ]
  },
  {
   "cell_type": "code",
   "execution_count": null,
   "metadata": {},
   "outputs": [],
   "source": [
    "#21 전체 코드\n",
    "import weakref\n",
    "import numpy as np\n",
    "import contextlib\n",
    "\n",
    "class Config:\n",
    "    enable_backprop = True\n",
    "\n",
    "@contextlib.contextmanager\n",
    "def using_config(name, value):\n",
    "    old_value = getattr(Config, name)\n",
    "    setattr(Config, name, value)\n",
    "    try:\n",
    "        yield\n",
    "    finally:\n",
    "        setattr(Config, name, old_value)\n",
    "\n",
    "def no_grad():\n",
    "    return using_config('enable_backprop', False)\n",
    "\n",
    "class Variable:\n",
    "    __array_priority__ = 200\n",
    "\n",
    "    def __init__(self, data, name=None):\n",
    "        if data is not None:\n",
    "            if not isinstance(data, np.ndarray):\n",
    "                raise TypeError('{} is not supported'.format(type(data)))\n",
    "\n",
    "        self.data = data\n",
    "        self.name = name\n",
    "        self.grad = None\n",
    "        self.creator = None\n",
    "        self.generation = 0\n",
    "\n",
    "    @property\n",
    "    def shape(self):\n",
    "        return self.data.shape\n",
    "\n",
    "    @property\n",
    "    def ndim(self):\n",
    "        return self.data.ndim\n",
    "\n",
    "    @property\n",
    "    def size(self):\n",
    "        return self.data.size\n",
    "\n",
    "    @property\n",
    "    def dtype(self):\n",
    "        return self.data.dtype\n",
    "\n",
    "    def __len__(self):\n",
    "        return len(self.data)\n",
    "\n",
    "    def __repr__(self):\n",
    "        if self.data is None:\n",
    "            return 'variable(None)'\n",
    "        p = str(self.data).replace('\\n', '\\n' + ' ' * 9)\n",
    "        return 'variable(' + p + ')'\n",
    "\n",
    "    def set_creator(self, func):\n",
    "        self.creator = func\n",
    "        self.generation = func.generation + 1\n",
    "\n",
    "    def cleargrad(self):\n",
    "        self.grad = None\n",
    "\n",
    "    def backward(self, retain_grad=False):\n",
    "        if self.grad is None:\n",
    "            self.grad = np.ones_like(self.data)\n",
    "\n",
    "        funcs = []\n",
    "        seen_set = set()\n",
    "\n",
    "        def add_func(f):\n",
    "            if f not in seen_set:\n",
    "                funcs.append(f)\n",
    "                seen_set.add(f)\n",
    "                funcs.sort(key=lambda x: x.generation)\n",
    "\n",
    "        add_func(self.creator)\n",
    "\n",
    "        while funcs:\n",
    "            f = funcs.pop()\n",
    "            gys = [output().grad for output in f.outputs]  # output is weakref\n",
    "            gxs = f.backward(*gys)\n",
    "            if not isinstance(gxs, tuple):\n",
    "                gxs = (gxs,)\n",
    "\n",
    "            for x, gx in zip(f.inputs, gxs):\n",
    "                if x.grad is None:\n",
    "                    x.grad = gx\n",
    "                else:\n",
    "                    x.grad = x.grad + gx\n",
    "\n",
    "                if x.creator is not None:\n",
    "                    add_func(x.creator)\n",
    "\n",
    "            if not retain_grad:\n",
    "                for y in f.outputs:\n",
    "                    y().grad = None  # y is weakref\n",
    "\n",
    "def as_variable(obj):\n",
    "    if isinstance(obj, Variable):\n",
    "        return obj\n",
    "    return Variable(obj)\n",
    "\n",
    "\n",
    "def as_array(x):\n",
    "    if np.isscalar(x):\n",
    "        return np.array(x)\n",
    "    return x\n",
    "\n",
    "\n",
    "class Function:\n",
    "    def __call__(self, *inputs):\n",
    "        inputs = [as_variable(x) for x in inputs]\n",
    "\n",
    "        xs = [x.data for x in inputs]\n",
    "        ys = self.forward(*xs)\n",
    "        if not isinstance(ys, tuple):\n",
    "            ys = (ys,)\n",
    "        outputs = [Variable(as_array(y)) for y in ys]\n",
    "\n",
    "        if Config.enable_backprop:\n",
    "            self.generation = max([x.generation for x in inputs])\n",
    "            for output in outputs:\n",
    "                output.set_creator(self)\n",
    "            self.inputs = inputs\n",
    "            self.outputs = [weakref.ref(output) for output in outputs]\n",
    "\n",
    "        return outputs if len(outputs) > 1 else outputs[0]\n",
    "\n",
    "    def forward(self, xs):\n",
    "        raise NotImplementedError()\n",
    "\n",
    "    def backward(self, gys):\n",
    "        raise NotImplementedError()\n",
    "\n",
    "class Add(Function):\n",
    "    def forward(self, x0, x1):\n",
    "        y = x0 + x1\n",
    "        return y\n",
    "\n",
    "    def backward(self, gy):\n",
    "        return gy, gy\n",
    "\n",
    "def add(x0, x1):\n",
    "    x1 = as_array(x1)\n",
    "    return Add()(x0, x1)\n",
    "\n",
    "class Mul(Function):\n",
    "    def forward(self, x0, x1):\n",
    "        y = x0 * x1\n",
    "        return y\n",
    "\n",
    "    def backward(self, gy):\n",
    "        x0, x1 = self.inputs[0].data, self.inputs[1].data\n",
    "        return gy * x1, gy * x0\n",
    "\n",
    "\n",
    "def mul(x0, x1):\n",
    "    x1 = as_array(x1)\n",
    "    return Mul()(x0, x1)\n",
    "\n",
    "\n",
    "Variable.__add__ = add\n",
    "Variable.__radd__ = add\n",
    "Variable.__mul__ = mul\n",
    "Variable.__rmul__ = mul"
   ]
  },
  {
   "cell_type": "code",
   "execution_count": null,
   "metadata": {},
   "outputs": [],
   "source": [
    "x = Variable(np.array(2.0))\n",
    "y = x + np.array(3.0)\n",
    "print(y)\n",
    "\n",
    "y = x + 3.0\n",
    "print(y)\n",
    "\n",
    "y = 3.0 * x + 1.0\n",
    "print(y)"
   ]
  },
  {
   "cell_type": "markdown",
   "metadata": {},
   "source": [
    "#### 연산자 오버로드 (3)  "
   ]
  },
  {
   "cell_type": "markdown",
   "metadata": {},
   "source": [
    "### 여태까지 우리는 자동미분하는 방법을 설계했다 이제는 패키지로 정리"
   ]
  },
  {
   "cell_type": "code",
   "execution_count": null,
   "metadata": {},
   "outputs": [],
   "source": []
  }
 ],
 "metadata": {
  "kernelspec": {
   "display_name": "base",
   "language": "python",
   "name": "python3"
  },
  "language_info": {
   "codemirror_mode": {
    "name": "ipython",
    "version": 3
   },
   "file_extension": ".py",
   "mimetype": "text/x-python",
   "name": "python",
   "nbconvert_exporter": "python",
   "pygments_lexer": "ipython3",
   "version": "3.11.7"
  }
 },
 "nbformat": 4,
 "nbformat_minor": 2
}
